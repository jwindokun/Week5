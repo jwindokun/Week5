{
 "metadata": {
  "name": "",
  "signature": "sha256:9da22669e77241e8165e2a40145fc4ecb2b3a8bd7d6b740c372b22e20f0dcce4"
 },
 "nbformat": 3,
 "nbformat_minor": 0,
 "worksheets": [
  {
   "cells": [
    {
     "cell_type": "heading",
     "level": 1,
     "metadata": {},
     "source": [
      "Data Programming Bridge Week 5 Python Assignment"
     ]
    },
    {
     "cell_type": "code",
     "collapsed": false,
     "input": [
      "fhand = open('C:\\Users\\jare\\SkyDrive\\WorkDocs\\CUNY\\Data_Analytics\\Data_Programming\\Week 5_DA\\ml-100k\\u.item')\n",
      "count = 0\n",
      "for line in fhand:\n",
      "   # print line\n",
      "    line = line.strip()\n",
      "    data = line.split('|')\n",
      "#    print data[1:2]\n",
      "#    print data[1]\n",
      "#    print data[2]\n",
      "    \n",
      "    if '1959' in data[2]:\n",
      "        #print 'Movie Title: ', data[1],  ' Year: ', data[2]\n",
      "        print 'Movie Title: ', data[1]\n",
      "        count = count + 1\n",
      "print 'Number of Movies: ', count"
     ],
     "language": "python",
     "metadata": {},
     "outputs": [
      {
       "output_type": "stream",
       "stream": "stdout",
       "text": [
        "Movie Title:  North by Northwest (1959)\n",
        "Movie Title:  Some Like It Hot (1959)\n",
        "Movie Title:  Ben-Hur (1959)\n",
        "Movie Title:  Shaggy Dog, The (1959)\n",
        "Number of Movies:  4\n"
       ]
      }
     ],
     "prompt_number": 2
    },
    {
     "cell_type": "code",
     "collapsed": false,
     "input": [],
     "language": "python",
     "metadata": {},
     "outputs": []
    }
   ],
   "metadata": {}
  }
 ]
}